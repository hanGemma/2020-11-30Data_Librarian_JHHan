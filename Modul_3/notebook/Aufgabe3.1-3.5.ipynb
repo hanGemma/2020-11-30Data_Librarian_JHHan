{
 "cells": [
  {
   "cell_type": "code",
   "execution_count": 10,
   "metadata": {},
   "outputs": [],
   "source": [
    "import numpy as np\n",
    "import seaborn as sns\n",
    "import pandas as pd\n",
    "import matplotlib.pyplot as plt\n",
    "%matplotlib inline"
   ]
  },
  {
   "cell_type": "code",
   "execution_count": 3,
   "metadata": {},
   "outputs": [
    {
     "data": {
      "text/plain": [
       "25 to 34 years       91083\n",
       "35 to 44 years       67390\n",
       "10 to 19 years       58944\n",
       "45 to 54 years       52492\n",
       "0 to 9 years         38242\n",
       "65 to 74 years       30141\n",
       "20 to 24 years       29761\n",
       "55 to 59 years       21230\n",
       "60 to 64 years       19800\n",
       "75 years and over    14150\n",
       "Name: Age Range, dtype: int64"
      ]
     },
     "execution_count": 3,
     "metadata": {},
     "output_type": "execute_result"
    }
   ],
   "source": [
    "#beispiel übung\n",
    "\n",
    "df = pd.read_csv(\"../data/Library_Usage.csv\")\n",
    "df['Age Range'].value_counts()"
   ]
  },
  {
   "cell_type": "code",
   "execution_count": 5,
   "metadata": {},
   "outputs": [
    {
     "data": {
      "text/plain": [
       "25 to 34 years       0.215208\n",
       "35 to 44 years       0.159227\n",
       "10 to 19 years       0.139271\n",
       "45 to 54 years       0.124026\n",
       "0 to 9 years         0.090357\n",
       "65 to 74 years       0.071216\n",
       "20 to 24 years       0.070318\n",
       "55 to 59 years       0.050161\n",
       "60 to 64 years       0.046783\n",
       "75 years and over    0.033433\n",
       "Name: Age Range, dtype: float64"
      ]
     },
     "execution_count": 5,
     "metadata": {},
     "output_type": "execute_result"
    }
   ],
   "source": [
    "df['Age Range'].value_counts(normalize=True)"
   ]
  },
  {
   "cell_type": "code",
   "execution_count": 10,
   "metadata": {},
   "outputs": [
    {
     "data": {
      "text/plain": [
       "'25 to 34 years'"
      ]
     },
     "execution_count": 10,
     "metadata": {},
     "output_type": "execute_result"
    }
   ],
   "source": [
    "age_mode = df['Age Range'].mode()\n",
    "age_mode[0]"
   ]
  },
  {
   "cell_type": "markdown",
   "metadata": {},
   "source": [
    "# 3.1 Häufigkeiten"
   ]
  },
  {
   "cell_type": "code",
   "execution_count": 22,
   "metadata": {},
   "outputs": [
    {
     "name": "stdout",
     "output_type": "stream",
     "text": [
      "2003    69257\n",
      "2015    53951\n",
      "2014    51902\n",
      "2013    48251\n",
      "2012    37395\n",
      "2011    26531\n",
      "2016    26288\n",
      "2010    24321\n",
      "2009    22307\n",
      "2008    20518\n",
      "2007    13289\n",
      "2006    10776\n",
      "2005     9668\n",
      "2004     8994\n",
      "Name: Year Patron Registered, dtype: int64\n"
     ]
    }
   ],
   "source": [
    "print(df['Year Patron Registered'].value_counts())\n",
    "# 3.1.1 in Jahr 2003 : 16.3 %\n",
    "# von 2004 bis 2012 : relative wenige Kunden registriert\n",
    "# ab 2013: Registedred Patron Anzahl steigert langsam"
   ]
  },
  {
   "cell_type": "code",
   "execution_count": 38,
   "metadata": {},
   "outputs": [
    {
     "data": {
      "text/plain": [
       "[<matplotlib.lines.Line2D at 0x20cf53a7b08>]"
      ]
     },
     "execution_count": 38,
     "metadata": {},
     "output_type": "execute_result"
    },
    {
     "data": {
      "image/png": "[encoded data removed]",
      "text/plain": [
       "<Figure size 432x288 with 1 Axes>"
      ]
     },
     "metadata": {},
     "output_type": "display_data"
    }
   ],
   "source": [
    "plt.plot(df['Year Patron Registered'].value_counts()) # ????ß"
   ]
  },
  {
   "cell_type": "code",
   "execution_count": 34,
   "metadata": {},
   "outputs": [
    {
     "data": {
      "text/plain": [
       "(array([78251.,  9668., 10776., 33807., 22307., 24321., 63926., 48251.,\n",
       "        51902., 80239.]),\n",
       " array([2003. , 2004.3, 2005.6, 2006.9, 2008.2, 2009.5, 2010.8, 2012.1,\n",
       "        2013.4, 2014.7, 2016. ]),\n",
       " <a list of 10 Patch objects>)"
      ]
     },
     "execution_count": 34,
     "metadata": {},
     "output_type": "execute_result"
    },
    {
     "data": {
      "image/png": "[encoded data removed]",
      "text/plain": [
       "<Figure size 432x288 with 1 Axes>"
      ]
     },
     "metadata": {},
     "output_type": "display_data"
    }
   ],
   "source": [
    "plt.hist(df['Year Patron Registered'])"
   ]
  },
  {
   "cell_type": "code",
   "execution_count": 14,
   "metadata": {},
   "outputs": [
    {
     "data": {
      "text/plain": [
       "25 to 34 years       0.215208\n",
       "35 to 44 years       0.159227\n",
       "10 to 19 years       0.139271\n",
       "45 to 54 years       0.124026\n",
       "0 to 9 years         0.090357\n",
       "65 to 74 years       0.071216\n",
       "20 to 24 years       0.070318\n",
       "55 to 59 years       0.050161\n",
       "60 to 64 years       0.046783\n",
       "75 years and over    0.033433\n",
       "Name: Age Range, dtype: float64"
      ]
     },
     "execution_count": 14,
     "metadata": {},
     "output_type": "execute_result"
    }
   ],
   "source": [
    "df['Age Range'].value_counts(normalize=True)\n",
    "# 3.1.2 :  25 - 34 : 21.5%"
   ]
  },
  {
   "cell_type": "code",
   "execution_count": 33,
   "metadata": {},
   "outputs": [],
   "source": [
    "age = df['Age Range'].fillna(0) \n",
    "# 3.1.3 ich finde nicht gut, da es verwirrung  mit \"0 to 9 years\"kommen könnte. \n"
   ]
  },
  {
   "cell_type": "code",
   "execution_count": 34,
   "metadata": {},
   "outputs": [
    {
     "data": {
      "text/plain": [
       "25 to 34 years       91083\n",
       "35 to 44 years       67390\n",
       "10 to 19 years       58944\n",
       "45 to 54 years       52492\n",
       "0 to 9 years         38242\n",
       "65 to 74 years       30141\n",
       "20 to 24 years       29761\n",
       "55 to 59 years       21230\n",
       "60 to 64 years       19800\n",
       "75 years and over    14150\n",
       "0                      215\n",
       "Name: Age Range, dtype: int64"
      ]
     },
     "execution_count": 34,
     "metadata": {},
     "output_type": "execute_result"
    }
   ],
   "source": [
    "age.value_counts()\n",
    "#df['Age Range'].unique()"
   ]
  },
  {
   "cell_type": "code",
   "execution_count": 23,
   "metadata": {},
   "outputs": [
    {
     "data": {
      "text/plain": [
       "count             423448\n",
       "unique                11\n",
       "top       25 to 34 years\n",
       "freq               91083\n",
       "Name: Age Range, dtype: object"
      ]
     },
     "execution_count": 23,
     "metadata": {},
     "output_type": "execute_result"
    }
   ],
   "source": [
    "age.describe()"
   ]
  },
  {
   "cell_type": "code",
   "execution_count": 36,
   "metadata": {},
   "outputs": [
    {
     "data": {
      "text/plain": [
       "25 to 34 years       91083\n",
       "35 to 44 years       67390\n",
       "10 to 19 years       58944\n",
       "45 to 54 years       52492\n",
       "0 to 9 years         38242\n",
       "65 to 74 years       30141\n",
       "20 to 24 years       29761\n",
       "55 to 59 years       21230\n",
       "60 to 64 years       19800\n",
       "75 years and over    14150\n",
       "NaN                    215\n",
       "Name: Age Range, dtype: int64"
      ]
     },
     "execution_count": 36,
     "metadata": {},
     "output_type": "execute_result"
    }
   ],
   "source": [
    "#3.1.4  ich würde nicht mit 0 ersetzen. eher \"NaN\"  oder  methode dropna() netzen\n",
    "age = df['Age Range'].fillna('NaN')\n",
    "age.value_counts()"
   ]
  },
  {
   "cell_type": "markdown",
   "metadata": {},
   "source": [
    "# 3.2 Mittelwert und Median\n",
    "mean: 161.98 (mittelwert von allen Werten)\n",
    "maddian: 19.0  (mittelwert von  211724 ste und 211725 ste  Werten)\n",
    "count: 422448\n",
    "Median Wert ist noch besser zum Statistik.  Extrem größere Werte oder kleine Werte nicht beeibflussen  werden.  "
   ]
  },
  {
   "cell_type": "code",
   "execution_count": 37,
   "metadata": {},
   "outputs": [
    {
     "data": {
      "text/plain": [
       "161.98209697530748"
      ]
     },
     "execution_count": 37,
     "metadata": {},
     "output_type": "execute_result"
    }
   ],
   "source": [
    "df['Total Checkouts'].mean()"
   ]
  },
  {
   "cell_type": "code",
   "execution_count": 38,
   "metadata": {},
   "outputs": [
    {
     "data": {
      "text/plain": [
       "19.0"
      ]
     },
     "execution_count": 38,
     "metadata": {},
     "output_type": "execute_result"
    }
   ],
   "source": [
    "df['Total Checkouts'].median()"
   ]
  },
  {
   "cell_type": "code",
   "execution_count": 41,
   "metadata": {},
   "outputs": [
    {
     "data": {
      "text/plain": [
       "423448"
      ]
     },
     "execution_count": 41,
     "metadata": {},
     "output_type": "execute_result"
    }
   ],
   "source": [
    "df['Total Checkouts'].count()"
   ]
  },
  {
   "cell_type": "markdown",
   "metadata": {},
   "source": [
    "# 3.3 Quantile"
   ]
  },
  {
   "cell_type": "code",
   "execution_count": 42,
   "metadata": {},
   "outputs": [
    {
     "data": {
      "text/plain": [
       "0.25      2.0\n",
       "0.50     19.0\n",
       "0.75    113.0\n",
       "Name: Total Checkouts, dtype: float64"
      ]
     },
     "execution_count": 42,
     "metadata": {},
     "output_type": "execute_result"
    }
   ],
   "source": [
    "df['Total Checkouts'].quantile(q=[0.25, 0.5, 0.75])"
   ]
  },
  {
   "cell_type": "code",
   "execution_count": 43,
   "metadata": {},
   "outputs": [
    {
     "data": {
      "text/plain": [
       "0.005       0.00\n",
       "0.995    2827.53\n",
       "Name: Total Checkouts, dtype: float64"
      ]
     },
     "execution_count": 43,
     "metadata": {},
     "output_type": "execute_result"
    }
   ],
   "source": [
    "alpha = 0.005\n",
    "df['Total Checkouts'].quantile([alpha, 1-alpha])"
   ]
  },
  {
   "cell_type": "code",
   "execution_count": 44,
   "metadata": {},
   "outputs": [
    {
     "data": {
      "text/plain": [
       "0.0015       0.0000\n",
       "0.9985    4286.8295\n",
       "Name: Total Checkouts, dtype: float64"
      ]
     },
     "execution_count": 44,
     "metadata": {},
     "output_type": "execute_result"
    }
   ],
   "source": [
    "alpha =0.0015\n",
    "df['Total Checkouts'].quantile([alpha, 1-alpha])"
   ]
  },
  {
   "cell_type": "code",
   "execution_count": 45,
   "metadata": {},
   "outputs": [
    {
     "data": {
      "text/plain": [
       "0.2500       2.0000\n",
       "0.5000      19.0000\n",
       "0.9950    2827.5300\n",
       "0.9985    4286.8295\n",
       "Name: Total Checkouts, dtype: float64"
      ]
     },
     "execution_count": 45,
     "metadata": {},
     "output_type": "execute_result"
    }
   ],
   "source": [
    "df['Total Checkouts'].quantile(q=[0.25, 0.5,0.995, 0.9985])"
   ]
  },
  {
   "cell_type": "code",
   "execution_count": 70,
   "metadata": {},
   "outputs": [
    {
     "data": {
      "text/plain": [
       "0.15043169409230886"
      ]
     },
     "execution_count": 70,
     "metadata": {},
     "output_type": "execute_result"
    }
   ],
   "source": [
    "637*100/423448\n",
    "#0.15% Ausreißer Teil"
   ]
  },
  {
   "cell_type": "code",
   "execution_count": 49,
   "metadata": {},
   "outputs": [
    {
     "data": {
      "text/html": [
       "<div>\n",
       "<style scoped>\n",
       "    .dataframe tbody tr th:only-of-type {\n",
       "        vertical-align: middle;\n",
       "    }\n",
       "\n",
       "    .dataframe tbody tr th {\n",
       "        vertical-align: top;\n",
       "    }\n",
       "\n",
       "    .dataframe thead th {\n",
       "        text-align: right;\n",
       "    }\n",
       "</style>\n",
       "<table border=\"1\" class=\"dataframe\">\n",
       "  <thead>\n",
       "    <tr style=\"text-align: right;\">\n",
       "      <th></th>\n",
       "      <th>Patron Type Code</th>\n",
       "      <th>Patron Type Definition</th>\n",
       "      <th>Total Checkouts</th>\n",
       "      <th>Total Renewals</th>\n",
       "      <th>Age Range</th>\n",
       "      <th>Home Library Code</th>\n",
       "      <th>Home Library Definition</th>\n",
       "      <th>Circulation Active Month</th>\n",
       "      <th>Circulation Active Year</th>\n",
       "      <th>Notice Preference Code</th>\n",
       "      <th>Notice Preference Definition</th>\n",
       "      <th>Provided Email Address</th>\n",
       "      <th>Year Patron Registered</th>\n",
       "      <th>Outside of County</th>\n",
       "      <th>Supervisor District</th>\n",
       "    </tr>\n",
       "  </thead>\n",
       "  <tbody>\n",
       "    <tr>\n",
       "      <td>0</td>\n",
       "      <td>0</td>\n",
       "      <td>ADULT</td>\n",
       "      <td>0</td>\n",
       "      <td>0</td>\n",
       "      <td>20 to 24 years</td>\n",
       "      <td>P1</td>\n",
       "      <td>Park</td>\n",
       "      <td>None</td>\n",
       "      <td>None</td>\n",
       "      <td>z</td>\n",
       "      <td>email</td>\n",
       "      <td>True</td>\n",
       "      <td>2014</td>\n",
       "      <td>False</td>\n",
       "      <td>5.0</td>\n",
       "    </tr>\n",
       "    <tr>\n",
       "      <td>1</td>\n",
       "      <td>0</td>\n",
       "      <td>ADULT</td>\n",
       "      <td>31</td>\n",
       "      <td>22</td>\n",
       "      <td>25 to 34 years</td>\n",
       "      <td>S7</td>\n",
       "      <td>Sunset</td>\n",
       "      <td>April</td>\n",
       "      <td>2016</td>\n",
       "      <td>z</td>\n",
       "      <td>email</td>\n",
       "      <td>True</td>\n",
       "      <td>2010</td>\n",
       "      <td>False</td>\n",
       "      <td>4.0</td>\n",
       "    </tr>\n",
       "    <tr>\n",
       "      <td>2</td>\n",
       "      <td>0</td>\n",
       "      <td>ADULT</td>\n",
       "      <td>0</td>\n",
       "      <td>0</td>\n",
       "      <td>45 to 54 years</td>\n",
       "      <td>P1</td>\n",
       "      <td>Park</td>\n",
       "      <td>None</td>\n",
       "      <td>None</td>\n",
       "      <td>a</td>\n",
       "      <td>print</td>\n",
       "      <td>False</td>\n",
       "      <td>2016</td>\n",
       "      <td>True</td>\n",
       "      <td>NaN</td>\n",
       "    </tr>\n",
       "    <tr>\n",
       "      <td>3</td>\n",
       "      <td>0</td>\n",
       "      <td>ADULT</td>\n",
       "      <td>0</td>\n",
       "      <td>0</td>\n",
       "      <td>25 to 34 years</td>\n",
       "      <td>X</td>\n",
       "      <td>Main Library</td>\n",
       "      <td>None</td>\n",
       "      <td>None</td>\n",
       "      <td>z</td>\n",
       "      <td>email</td>\n",
       "      <td>True</td>\n",
       "      <td>2015</td>\n",
       "      <td>False</td>\n",
       "      <td>3.0</td>\n",
       "    </tr>\n",
       "    <tr>\n",
       "      <td>4</td>\n",
       "      <td>0</td>\n",
       "      <td>ADULT</td>\n",
       "      <td>126</td>\n",
       "      <td>11</td>\n",
       "      <td>45 to 54 years</td>\n",
       "      <td>M2</td>\n",
       "      <td>Marina</td>\n",
       "      <td>January</td>\n",
       "      <td>2016</td>\n",
       "      <td>z</td>\n",
       "      <td>email</td>\n",
       "      <td>True</td>\n",
       "      <td>2003</td>\n",
       "      <td>False</td>\n",
       "      <td>2.0</td>\n",
       "    </tr>\n",
       "    <tr>\n",
       "      <td>...</td>\n",
       "      <td>...</td>\n",
       "      <td>...</td>\n",
       "      <td>...</td>\n",
       "      <td>...</td>\n",
       "      <td>...</td>\n",
       "      <td>...</td>\n",
       "      <td>...</td>\n",
       "      <td>...</td>\n",
       "      <td>...</td>\n",
       "      <td>...</td>\n",
       "      <td>...</td>\n",
       "      <td>...</td>\n",
       "      <td>...</td>\n",
       "      <td>...</td>\n",
       "      <td>...</td>\n",
       "    </tr>\n",
       "    <tr>\n",
       "      <td>423443</td>\n",
       "      <td>0</td>\n",
       "      <td>ADULT</td>\n",
       "      <td>291</td>\n",
       "      <td>13</td>\n",
       "      <td>10 to 19 years</td>\n",
       "      <td>P5</td>\n",
       "      <td>Portola</td>\n",
       "      <td>March</td>\n",
       "      <td>2015</td>\n",
       "      <td>p</td>\n",
       "      <td>phone</td>\n",
       "      <td>False</td>\n",
       "      <td>2009</td>\n",
       "      <td>False</td>\n",
       "      <td>9.0</td>\n",
       "    </tr>\n",
       "    <tr>\n",
       "      <td>423444</td>\n",
       "      <td>0</td>\n",
       "      <td>ADULT</td>\n",
       "      <td>15</td>\n",
       "      <td>11</td>\n",
       "      <td>60 to 64 years</td>\n",
       "      <td>M8</td>\n",
       "      <td>Mission Bay</td>\n",
       "      <td>July</td>\n",
       "      <td>2016</td>\n",
       "      <td>z</td>\n",
       "      <td>email</td>\n",
       "      <td>True</td>\n",
       "      <td>2016</td>\n",
       "      <td>False</td>\n",
       "      <td>6.0</td>\n",
       "    </tr>\n",
       "    <tr>\n",
       "      <td>423445</td>\n",
       "      <td>5</td>\n",
       "      <td>STAFF</td>\n",
       "      <td>208</td>\n",
       "      <td>58</td>\n",
       "      <td>0 to 9 years</td>\n",
       "      <td>B4</td>\n",
       "      <td>Bernal Heights</td>\n",
       "      <td>July</td>\n",
       "      <td>2016</td>\n",
       "      <td>z</td>\n",
       "      <td>email</td>\n",
       "      <td>True</td>\n",
       "      <td>2014</td>\n",
       "      <td>False</td>\n",
       "      <td>9.0</td>\n",
       "    </tr>\n",
       "    <tr>\n",
       "      <td>423446</td>\n",
       "      <td>0</td>\n",
       "      <td>ADULT</td>\n",
       "      <td>26</td>\n",
       "      <td>0</td>\n",
       "      <td>10 to 19 years</td>\n",
       "      <td>M6</td>\n",
       "      <td>Mission</td>\n",
       "      <td>April</td>\n",
       "      <td>2015</td>\n",
       "      <td>z</td>\n",
       "      <td>email</td>\n",
       "      <td>True</td>\n",
       "      <td>2003</td>\n",
       "      <td>False</td>\n",
       "      <td>9.0</td>\n",
       "    </tr>\n",
       "    <tr>\n",
       "      <td>423447</td>\n",
       "      <td>1</td>\n",
       "      <td>JUVENILE</td>\n",
       "      <td>0</td>\n",
       "      <td>0</td>\n",
       "      <td>0 to 9 years</td>\n",
       "      <td>E7</td>\n",
       "      <td>Eureka Valley/Harvey Milk Memorial</td>\n",
       "      <td>None</td>\n",
       "      <td>None</td>\n",
       "      <td>a</td>\n",
       "      <td>print</td>\n",
       "      <td>False</td>\n",
       "      <td>2015</td>\n",
       "      <td>False</td>\n",
       "      <td>8.0</td>\n",
       "    </tr>\n",
       "  </tbody>\n",
       "</table>\n",
       "<p>422811 rows × 15 columns</p>\n",
       "</div>"
      ],
      "text/plain": [
       "        Patron Type Code Patron Type Definition  Total Checkouts  \\\n",
       "0                      0                  ADULT                0   \n",
       "1                      0                  ADULT               31   \n",
       "2                      0                  ADULT                0   \n",
       "3                      0                  ADULT                0   \n",
       "4                      0                  ADULT              126   \n",
       "...                  ...                    ...              ...   \n",
       "423443                 0                  ADULT              291   \n",
       "423444                 0                  ADULT               15   \n",
       "423445                 5                  STAFF              208   \n",
       "423446                 0                  ADULT               26   \n",
       "423447                 1               JUVENILE                0   \n",
       "\n",
       "        Total Renewals       Age Range Home Library Code  \\\n",
       "0                    0  20 to 24 years                P1   \n",
       "1                   22  25 to 34 years                S7   \n",
       "2                    0  45 to 54 years                P1   \n",
       "3                    0  25 to 34 years                 X   \n",
       "4                   11  45 to 54 years                M2   \n",
       "...                ...             ...               ...   \n",
       "423443              13  10 to 19 years                P5   \n",
       "423444              11  60 to 64 years                M8   \n",
       "423445              58    0 to 9 years                B4   \n",
       "423446               0  10 to 19 years                M6   \n",
       "423447               0    0 to 9 years                E7   \n",
       "\n",
       "                   Home Library Definition Circulation Active Month  \\\n",
       "0                                     Park                     None   \n",
       "1                                   Sunset                    April   \n",
       "2                                     Park                     None   \n",
       "3                             Main Library                     None   \n",
       "4                                   Marina                  January   \n",
       "...                                    ...                      ...   \n",
       "423443                             Portola                    March   \n",
       "423444                         Mission Bay                     July   \n",
       "423445                      Bernal Heights                     July   \n",
       "423446                             Mission                    April   \n",
       "423447  Eureka Valley/Harvey Milk Memorial                     None   \n",
       "\n",
       "       Circulation Active Year Notice Preference Code  \\\n",
       "0                         None                      z   \n",
       "1                         2016                      z   \n",
       "2                         None                      a   \n",
       "3                         None                      z   \n",
       "4                         2016                      z   \n",
       "...                        ...                    ...   \n",
       "423443                    2015                      p   \n",
       "423444                    2016                      z   \n",
       "423445                    2016                      z   \n",
       "423446                    2015                      z   \n",
       "423447                    None                      a   \n",
       "\n",
       "       Notice Preference Definition  Provided Email Address  \\\n",
       "0                             email                    True   \n",
       "1                             email                    True   \n",
       "2                             print                   False   \n",
       "3                             email                    True   \n",
       "4                             email                    True   \n",
       "...                             ...                     ...   \n",
       "423443                        phone                   False   \n",
       "423444                        email                    True   \n",
       "423445                        email                    True   \n",
       "423446                        email                    True   \n",
       "423447                        print                   False   \n",
       "\n",
       "        Year Patron Registered  Outside of County  Supervisor District  \n",
       "0                         2014              False                  5.0  \n",
       "1                         2010              False                  4.0  \n",
       "2                         2016               True                  NaN  \n",
       "3                         2015              False                  3.0  \n",
       "4                         2003              False                  2.0  \n",
       "...                        ...                ...                  ...  \n",
       "423443                    2009              False                  9.0  \n",
       "423444                    2016              False                  6.0  \n",
       "423445                    2014              False                  9.0  \n",
       "423446                    2003              False                  9.0  \n",
       "423447                    2015              False                  8.0  \n",
       "\n",
       "[422811 rows x 15 columns]"
      ]
     },
     "execution_count": 49,
     "metadata": {},
     "output_type": "execute_result"
    }
   ],
   "source": [
    "# als  totalcheckouts< 4286.8,  \n",
    "422811 (637( Ausreißer mit mehr 4286 checkouts)weniger )\n",
    "##\n",
    "df_TCless4286 = (df['Total Checkouts'] < 4286)\n",
    "df.loc[df_TCless4286]\n"
   ]
  },
  {
   "cell_type": "markdown",
   "metadata": {},
   "source": [
    "# 3.4 Varianz\n",
    "\n",
    "\"total Renewals\" (variationskoeffizienten 3.7717062851167245)  streut mehr als \"total Checkouts\" (variationskoeffizienten 2.8009495298130904)\n"
   ]
  },
  {
   "cell_type": "code",
   "execution_count": 53,
   "metadata": {},
   "outputs": [
    {
     "name": "stdout",
     "output_type": "stream",
     "text": [
      "205847.027758416\n",
      "50629.46272559851\n"
     ]
    }
   ],
   "source": [
    "TCvar = df['Total Checkouts'].var()\n",
    "TRvar = df[\"Total Renewals\"].var()\n",
    "print(TCvar)\n",
    "print(TRvar)"
   ]
  },
  {
   "cell_type": "code",
   "execution_count": 54,
   "metadata": {},
   "outputs": [
    {
     "name": "stdout",
     "output_type": "stream",
     "text": [
      "453.7036783611259\n",
      "225.0099169494503\n"
     ]
    }
   ],
   "source": [
    "TCstd = df['Total Checkouts'].std()\n",
    "TRstd = df[\"Total Renewals\"].std()\n",
    "print(TCstd)\n",
    "print(TRstd)"
   ]
  },
  {
   "cell_type": "code",
   "execution_count": 57,
   "metadata": {},
   "outputs": [
    {
     "name": "stdout",
     "output_type": "stream",
     "text": [
      "2.8009495298130904\n",
      "3.7717062851167245\n"
     ]
    }
   ],
   "source": [
    "TCmean=df[\"Total Checkouts\"].mean()\n",
    "TRmean = df[\"Total Renewals\"].mean()\n",
    "print(TCstd/TCmean)\n",
    "print(TRstd/TRmean)"
   ]
  },
  {
   "cell_type": "code",
   "execution_count": 58,
   "metadata": {},
   "outputs": [
    {
     "data": {
      "text/plain": [
       "35907"
      ]
     },
     "execution_count": 58,
     "metadata": {},
     "output_type": "execute_result"
    }
   ],
   "source": [
    "df['Total Checkouts'].max() - df['Total Checkouts'].min()"
   ]
  },
  {
   "cell_type": "code",
   "execution_count": 59,
   "metadata": {},
   "outputs": [
    {
     "data": {
      "text/plain": [
       "111.0"
      ]
     },
     "execution_count": 59,
     "metadata": {},
     "output_type": "execute_result"
    }
   ],
   "source": [
    "df['Total Checkouts'].quantile(q=0.75) - df['Total Checkouts'].quantile(q=0.25)"
   ]
  },
  {
   "cell_type": "markdown",
   "metadata": {},
   "source": [
    "# 3.5 Ausreißerentfernung \n",
    " Ausreißer mit Total Chackouts mehr als 279.5"
   ]
  },
  {
   "cell_type": "code",
   "execution_count": 61,
   "metadata": {},
   "outputs": [
    {
     "name": "stdout",
     "output_type": "stream",
     "text": [
      "279.5\n"
     ]
    }
   ],
   "source": [
    "q75 = df['Total Checkouts'].quantile(q=0.75) \n",
    "q25 = df['Total Checkouts'].quantile(q=0.25)\n",
    "ausreisser = q75 + 1.5*(q75-q25)\n",
    "print(ausreisser)\n"
   ]
  },
  {
   "cell_type": "code",
   "execution_count": 62,
   "metadata": {},
   "outputs": [
    {
     "data": {
      "text/html": [
       "<div>\n",
       "<style scoped>\n",
       "    .dataframe tbody tr th:only-of-type {\n",
       "        vertical-align: middle;\n",
       "    }\n",
       "\n",
       "    .dataframe tbody tr th {\n",
       "        vertical-align: top;\n",
       "    }\n",
       "\n",
       "    .dataframe thead th {\n",
       "        text-align: right;\n",
       "    }\n",
       "</style>\n",
       "<table border=\"1\" class=\"dataframe\">\n",
       "  <thead>\n",
       "    <tr style=\"text-align: right;\">\n",
       "      <th></th>\n",
       "      <th>Patron Type Code</th>\n",
       "      <th>Patron Type Definition</th>\n",
       "      <th>Total Checkouts</th>\n",
       "      <th>Total Renewals</th>\n",
       "      <th>Age Range</th>\n",
       "      <th>Home Library Code</th>\n",
       "      <th>Home Library Definition</th>\n",
       "      <th>Circulation Active Month</th>\n",
       "      <th>Circulation Active Year</th>\n",
       "      <th>Notice Preference Code</th>\n",
       "      <th>Notice Preference Definition</th>\n",
       "      <th>Provided Email Address</th>\n",
       "      <th>Year Patron Registered</th>\n",
       "      <th>Outside of County</th>\n",
       "      <th>Supervisor District</th>\n",
       "    </tr>\n",
       "  </thead>\n",
       "  <tbody>\n",
       "    <tr>\n",
       "      <td>0</td>\n",
       "      <td>0</td>\n",
       "      <td>ADULT</td>\n",
       "      <td>0</td>\n",
       "      <td>0</td>\n",
       "      <td>20 to 24 years</td>\n",
       "      <td>P1</td>\n",
       "      <td>Park</td>\n",
       "      <td>None</td>\n",
       "      <td>None</td>\n",
       "      <td>z</td>\n",
       "      <td>email</td>\n",
       "      <td>True</td>\n",
       "      <td>2014</td>\n",
       "      <td>False</td>\n",
       "      <td>5.0</td>\n",
       "    </tr>\n",
       "    <tr>\n",
       "      <td>1</td>\n",
       "      <td>0</td>\n",
       "      <td>ADULT</td>\n",
       "      <td>31</td>\n",
       "      <td>22</td>\n",
       "      <td>25 to 34 years</td>\n",
       "      <td>S7</td>\n",
       "      <td>Sunset</td>\n",
       "      <td>April</td>\n",
       "      <td>2016</td>\n",
       "      <td>z</td>\n",
       "      <td>email</td>\n",
       "      <td>True</td>\n",
       "      <td>2010</td>\n",
       "      <td>False</td>\n",
       "      <td>4.0</td>\n",
       "    </tr>\n",
       "    <tr>\n",
       "      <td>2</td>\n",
       "      <td>0</td>\n",
       "      <td>ADULT</td>\n",
       "      <td>0</td>\n",
       "      <td>0</td>\n",
       "      <td>45 to 54 years</td>\n",
       "      <td>P1</td>\n",
       "      <td>Park</td>\n",
       "      <td>None</td>\n",
       "      <td>None</td>\n",
       "      <td>a</td>\n",
       "      <td>print</td>\n",
       "      <td>False</td>\n",
       "      <td>2016</td>\n",
       "      <td>True</td>\n",
       "      <td>NaN</td>\n",
       "    </tr>\n",
       "    <tr>\n",
       "      <td>3</td>\n",
       "      <td>0</td>\n",
       "      <td>ADULT</td>\n",
       "      <td>0</td>\n",
       "      <td>0</td>\n",
       "      <td>25 to 34 years</td>\n",
       "      <td>X</td>\n",
       "      <td>Main Library</td>\n",
       "      <td>None</td>\n",
       "      <td>None</td>\n",
       "      <td>z</td>\n",
       "      <td>email</td>\n",
       "      <td>True</td>\n",
       "      <td>2015</td>\n",
       "      <td>False</td>\n",
       "      <td>3.0</td>\n",
       "    </tr>\n",
       "    <tr>\n",
       "      <td>4</td>\n",
       "      <td>0</td>\n",
       "      <td>ADULT</td>\n",
       "      <td>126</td>\n",
       "      <td>11</td>\n",
       "      <td>45 to 54 years</td>\n",
       "      <td>M2</td>\n",
       "      <td>Marina</td>\n",
       "      <td>January</td>\n",
       "      <td>2016</td>\n",
       "      <td>z</td>\n",
       "      <td>email</td>\n",
       "      <td>True</td>\n",
       "      <td>2003</td>\n",
       "      <td>False</td>\n",
       "      <td>2.0</td>\n",
       "    </tr>\n",
       "    <tr>\n",
       "      <td>...</td>\n",
       "      <td>...</td>\n",
       "      <td>...</td>\n",
       "      <td>...</td>\n",
       "      <td>...</td>\n",
       "      <td>...</td>\n",
       "      <td>...</td>\n",
       "      <td>...</td>\n",
       "      <td>...</td>\n",
       "      <td>...</td>\n",
       "      <td>...</td>\n",
       "      <td>...</td>\n",
       "      <td>...</td>\n",
       "      <td>...</td>\n",
       "      <td>...</td>\n",
       "      <td>...</td>\n",
       "    </tr>\n",
       "    <tr>\n",
       "      <td>423440</td>\n",
       "      <td>2</td>\n",
       "      <td>YOUNG ADULT</td>\n",
       "      <td>42</td>\n",
       "      <td>53</td>\n",
       "      <td>10 to 19 years</td>\n",
       "      <td>M4</td>\n",
       "      <td>Merced</td>\n",
       "      <td>June</td>\n",
       "      <td>2014</td>\n",
       "      <td>p</td>\n",
       "      <td>phone</td>\n",
       "      <td>False</td>\n",
       "      <td>2011</td>\n",
       "      <td>True</td>\n",
       "      <td>NaN</td>\n",
       "    </tr>\n",
       "    <tr>\n",
       "      <td>423444</td>\n",
       "      <td>0</td>\n",
       "      <td>ADULT</td>\n",
       "      <td>15</td>\n",
       "      <td>11</td>\n",
       "      <td>60 to 64 years</td>\n",
       "      <td>M8</td>\n",
       "      <td>Mission Bay</td>\n",
       "      <td>July</td>\n",
       "      <td>2016</td>\n",
       "      <td>z</td>\n",
       "      <td>email</td>\n",
       "      <td>True</td>\n",
       "      <td>2016</td>\n",
       "      <td>False</td>\n",
       "      <td>6.0</td>\n",
       "    </tr>\n",
       "    <tr>\n",
       "      <td>423445</td>\n",
       "      <td>5</td>\n",
       "      <td>STAFF</td>\n",
       "      <td>208</td>\n",
       "      <td>58</td>\n",
       "      <td>0 to 9 years</td>\n",
       "      <td>B4</td>\n",
       "      <td>Bernal Heights</td>\n",
       "      <td>July</td>\n",
       "      <td>2016</td>\n",
       "      <td>z</td>\n",
       "      <td>email</td>\n",
       "      <td>True</td>\n",
       "      <td>2014</td>\n",
       "      <td>False</td>\n",
       "      <td>9.0</td>\n",
       "    </tr>\n",
       "    <tr>\n",
       "      <td>423446</td>\n",
       "      <td>0</td>\n",
       "      <td>ADULT</td>\n",
       "      <td>26</td>\n",
       "      <td>0</td>\n",
       "      <td>10 to 19 years</td>\n",
       "      <td>M6</td>\n",
       "      <td>Mission</td>\n",
       "      <td>April</td>\n",
       "      <td>2015</td>\n",
       "      <td>z</td>\n",
       "      <td>email</td>\n",
       "      <td>True</td>\n",
       "      <td>2003</td>\n",
       "      <td>False</td>\n",
       "      <td>9.0</td>\n",
       "    </tr>\n",
       "    <tr>\n",
       "      <td>423447</td>\n",
       "      <td>1</td>\n",
       "      <td>JUVENILE</td>\n",
       "      <td>0</td>\n",
       "      <td>0</td>\n",
       "      <td>0 to 9 years</td>\n",
       "      <td>E7</td>\n",
       "      <td>Eureka Valley/Harvey Milk Memorial</td>\n",
       "      <td>None</td>\n",
       "      <td>None</td>\n",
       "      <td>a</td>\n",
       "      <td>print</td>\n",
       "      <td>False</td>\n",
       "      <td>2015</td>\n",
       "      <td>False</td>\n",
       "      <td>8.0</td>\n",
       "    </tr>\n",
       "  </tbody>\n",
       "</table>\n",
       "<p>363702 rows × 15 columns</p>\n",
       "</div>"
      ],
      "text/plain": [
       "        Patron Type Code Patron Type Definition  Total Checkouts  \\\n",
       "0                      0                  ADULT                0   \n",
       "1                      0                  ADULT               31   \n",
       "2                      0                  ADULT                0   \n",
       "3                      0                  ADULT                0   \n",
       "4                      0                  ADULT              126   \n",
       "...                  ...                    ...              ...   \n",
       "423440                 2            YOUNG ADULT               42   \n",
       "423444                 0                  ADULT               15   \n",
       "423445                 5                  STAFF              208   \n",
       "423446                 0                  ADULT               26   \n",
       "423447                 1               JUVENILE                0   \n",
       "\n",
       "        Total Renewals       Age Range Home Library Code  \\\n",
       "0                    0  20 to 24 years                P1   \n",
       "1                   22  25 to 34 years                S7   \n",
       "2                    0  45 to 54 years                P1   \n",
       "3                    0  25 to 34 years                 X   \n",
       "4                   11  45 to 54 years                M2   \n",
       "...                ...             ...               ...   \n",
       "423440              53  10 to 19 years                M4   \n",
       "423444              11  60 to 64 years                M8   \n",
       "423445              58    0 to 9 years                B4   \n",
       "423446               0  10 to 19 years                M6   \n",
       "423447               0    0 to 9 years                E7   \n",
       "\n",
       "                   Home Library Definition Circulation Active Month  \\\n",
       "0                                     Park                     None   \n",
       "1                                   Sunset                    April   \n",
       "2                                     Park                     None   \n",
       "3                             Main Library                     None   \n",
       "4                                   Marina                  January   \n",
       "...                                    ...                      ...   \n",
       "423440                              Merced                     June   \n",
       "423444                         Mission Bay                     July   \n",
       "423445                      Bernal Heights                     July   \n",
       "423446                             Mission                    April   \n",
       "423447  Eureka Valley/Harvey Milk Memorial                     None   \n",
       "\n",
       "       Circulation Active Year Notice Preference Code  \\\n",
       "0                         None                      z   \n",
       "1                         2016                      z   \n",
       "2                         None                      a   \n",
       "3                         None                      z   \n",
       "4                         2016                      z   \n",
       "...                        ...                    ...   \n",
       "423440                    2014                      p   \n",
       "423444                    2016                      z   \n",
       "423445                    2016                      z   \n",
       "423446                    2015                      z   \n",
       "423447                    None                      a   \n",
       "\n",
       "       Notice Preference Definition  Provided Email Address  \\\n",
       "0                             email                    True   \n",
       "1                             email                    True   \n",
       "2                             print                   False   \n",
       "3                             email                    True   \n",
       "4                             email                    True   \n",
       "...                             ...                     ...   \n",
       "423440                        phone                   False   \n",
       "423444                        email                    True   \n",
       "423445                        email                    True   \n",
       "423446                        email                    True   \n",
       "423447                        print                   False   \n",
       "\n",
       "        Year Patron Registered  Outside of County  Supervisor District  \n",
       "0                         2014              False                  5.0  \n",
       "1                         2010              False                  4.0  \n",
       "2                         2016               True                  NaN  \n",
       "3                         2015              False                  3.0  \n",
       "4                         2003              False                  2.0  \n",
       "...                        ...                ...                  ...  \n",
       "423440                    2011               True                  NaN  \n",
       "423444                    2016              False                  6.0  \n",
       "423445                    2014              False                  9.0  \n",
       "423446                    2003              False                  9.0  \n",
       "423447                    2015              False                  8.0  \n",
       "\n",
       "[363702 rows x 15 columns]"
      ]
     },
     "execution_count": 62,
     "metadata": {},
     "output_type": "execute_result"
    }
   ],
   "source": [
    "df_TC = (df['Total Checkouts'] < 279.2)\n",
    "df.loc[df_TC]"
   ]
  },
  {
   "cell_type": "code",
   "execution_count": 66,
   "metadata": {},
   "outputs": [
    {
     "data": {
      "text/plain": [
       "14.109406585932629"
      ]
     },
     "execution_count": 66,
     "metadata": {},
     "output_type": "execute_result"
    }
   ],
   "source": [
    "#363702 : TC <279.5, total df: 423448\n",
    "(423448-363702)*100/423448\n",
    "# 85.89 % nicht- Ausreißer,  14.109% Ausreißer (59746). "
   ]
  },
  {
   "cell_type": "code",
   "execution_count": null,
   "metadata": {},
   "outputs": [],
   "source": []
  }
 ],
 "metadata": {
  "kernelspec": {
   "display_name": "Python 3",
   "language": "python",
   "name": "python3"
  },
  "language_info": {
   "codemirror_mode": {
    "name": "ipython",
    "version": 3
   },
   "file_extension": ".py",
   "mimetype": "text/x-python",
   "name": "python",
   "nbconvert_exporter": "python",
   "pygments_lexer": "ipython3",
   "version": "3.7.4"
  }
 },
 "nbformat": 4,
 "nbformat_minor": 2
}
